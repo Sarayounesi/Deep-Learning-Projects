{
  "cells": [
    {
      "cell_type": "code",
      "execution_count": 1,
      "metadata": {
        "id": "fwKFASU8Zt8X"
      },
      "outputs": [],
      "source": [
        "import tensorflow as tf\n",
        "from tensorflow.keras import layers, models\n",
        "import numpy as np\n",
        "import tensorflow as tf\n",
        "from tensorflow.keras.models import Sequential\n",
        "from tensorflow.keras.layers import Conv2D, Input"
      ]
    },
    {
      "cell_type": "code",
      "execution_count": 2,
      "metadata": {
        "id": "7ya0HjvncLE2"
      },
      "outputs": [],
      "source": [
        "input_shape = (32, 32, 128)"
      ]
    },
    {
      "cell_type": "code",
      "execution_count": 15,
      "metadata": {
        "id": "hcF_R5QqcT8l"
      },
      "outputs": [],
      "source": [
        "# This code creates a sequential model using the Keras library. A sequential model is a type of model that consists of a stack of layers that are connected in a linear fashion. The code does the following steps:\n",
        "\n",
        "# •  First, it adds an input layer that specifies the shape of the input data. The input data is expected to have a shape of (32, 32, 128), which means that it is a 32x32 image with 128 channels.\n",
        "\n",
        "# •  Second, it adds a convolutional layer that applies 32 filters of size 1x1 with a relu activation function and a same padding to the input layer. A convolutional layer is a type of layer that performs a mathematical operation called convolution on the input data, which can help to extract features or patterns from the input data. A relu activation function is a type of function that returns the maximum of zero and the input value, and is commonly used to introduce non-linearity in neural networks. A same padding means that the output layer will have the same spatial dimensions as the input layer.\n",
        "\n",
        "# •  Third, it adds another convolutional layer that applies 1 filter of size 1x1 with a relu activation function and a same padding to the previous layer. This layer can help to reduce the number of channels in the output and to learn a linear combination of the features from the previous layer.\n",
        "\n",
        "# •  Fourth, it compiles the model using the stochastic gradient descent optimizer, the sparse categorical crossentropy loss function, and the accuracy metric. The optimizer is a type of algorithm that updates the weights and biases of the model to minimize the loss function. The loss function is a type of function that measures the difference between the predicted output and the true output. The metric is a type of function that evaluates the performance of the model. The sparse categorical crossentropy loss function is a type of function that computes the crossentropy between the true labels and the predicted probabilities for a multi-class classification problem. The accuracy metric is a type of function that computes the fraction of correctly classified samples.\n",
        "model_11 = Sequential()\n",
        "model_11.add(Input(shape=(32, 32, 128)))\n",
        "model_11.add(Conv2D(filters=32, kernel_size=(1, 1), activation='relu' ,  padding='same'))\n",
        "model_11.add(Conv2D(filters=1, kernel_size=(1, 1), activation='relu' ,  padding='same'))\n",
        "model_11.compile(optimizer='SGD', loss='sparse_categorical_crossentropy', metrics=['accuracy'])"
      ]
    },
    {
      "cell_type": "code",
      "execution_count": 16,
      "metadata": {
        "colab": {
          "base_uri": "https://localhost:8080/"
        },
        "id": "7kQCS3bBdt4B",
        "outputId": "9a61b288-1178-4491-b290-90b26f85a9c6"
      },
      "outputs": [
        {
          "name": "stdout",
          "output_type": "stream",
          "text": [
            "Model: \"sequential_4\"\n",
            "_________________________________________________________________\n",
            " Layer (type)                Output Shape              Param #   \n",
            "=================================================================\n",
            " conv2d_5 (Conv2D)           (None, 32, 32, 32)        4128      \n",
            "                                                                 \n",
            " conv2d_6 (Conv2D)           (None, 32, 32, 1)         33        \n",
            "                                                                 \n",
            "=================================================================\n",
            "Total params: 4161 (16.25 KB)\n",
            "Trainable params: 4161 (16.25 KB)\n",
            "Non-trainable params: 0 (0.00 Byte)\n",
            "_________________________________________________________________\n"
          ]
        }
      ],
      "source": [
        "model_11.summary()"
      ]
    },
    {
      "cell_type": "code",
      "execution_count": 21,
      "metadata": {
        "id": "Z3V3hRPue71G"
      },
      "outputs": [],
      "source": [
        "model_33 = Sequential()\n",
        "model_33.add(Input(shape=(32, 32, 128)))\n",
        "model_33.add(Conv2D(filters=32, kernel_size=(3, 3), activation='relu' ,  padding='same'))\n",
        "model_33.add(Conv2D(filters=32, kernel_size=(3, 3), activation='relu' ,  padding='same'))\n",
        "model_33.compile(optimizer='SGD', loss='sparse_categorical_crossentropy', metrics=['accuracy'])"
      ]
    },
    {
      "cell_type": "code",
      "execution_count": 22,
      "metadata": {
        "colab": {
          "base_uri": "https://localhost:8080/"
        },
        "id": "mZUf6l52fE9p",
        "outputId": "b228ce32-b1d1-4625-a902-7d97cd8d2a1c"
      },
      "outputs": [
        {
          "name": "stdout",
          "output_type": "stream",
          "text": [
            "Model: \"sequential_6\"\n",
            "_________________________________________________________________\n",
            " Layer (type)                Output Shape              Param #   \n",
            "=================================================================\n",
            " conv2d_9 (Conv2D)           (None, 32, 32, 32)        36896     \n",
            "                                                                 \n",
            " conv2d_10 (Conv2D)          (None, 32, 32, 32)        9248      \n",
            "                                                                 \n",
            "=================================================================\n",
            "Total params: 46144 (180.25 KB)\n",
            "Trainable params: 46144 (180.25 KB)\n",
            "Non-trainable params: 0 (0.00 Byte)\n",
            "_________________________________________________________________\n"
          ]
        }
      ],
      "source": [
        "model_33.summary()"
      ]
    },
    {
      "cell_type": "code",
      "execution_count": 25,
      "metadata": {
        "colab": {
          "base_uri": "https://localhost:8080/"
        },
        "id": "cDo9W7DDc7xW",
        "outputId": "eba13191-9fc9-41f6-b38b-403d5c02d964"
      },
      "outputs": [
        {
          "name": "stdout",
          "output_type": "stream",
          "text": [
            "1/1 [==============================] - 0s 20ms/step\n",
            "1/1 [==============================] - 0s 25ms/step\n"
          ]
        }
      ],
      "source": [
        "input_ex = np.random.rand(1, 32, 32, 128).astype(np.float32)\n",
        "output_ex_11 = model_11.predict(input_ex)\n",
        "output_ex_33 = model_33.predict(input_ex)"
      ]
    },
    {
      "cell_type": "code",
      "execution_count": 26,
      "metadata": {
        "colab": {
          "base_uri": "https://localhost:8080/"
        },
        "id": "dRA0jqDgcvoF",
        "outputId": "c5ac6614-1e71-4fcf-f1c0-91a6b34540a2"
      },
      "outputs": [
        {
          "name": "stdout",
          "output_type": "stream",
          "text": [
            "Input size: (1, 32, 32, 128)\n",
            "Output size with 1*1 kernel : (1, 32, 32, 1)\n",
            "Output size without 1*1 kernel: (1, 32, 32, 32)\n"
          ]
        }
      ],
      "source": [
        "print(f\"Input size: {input_ex.shape}\")\n",
        "print(f\"Output size with 1*1 kernel : {output_ex_11.shape}\")\n",
        "print(f\"Output size without 1*1 kernel: {output_ex_33.shape}\")"
      ]
    }
  ],
  "metadata": {
    "colab": {
      "provenance": []
    },
    "kernelspec": {
      "display_name": "Python 3",
      "name": "python3"
    },
    "language_info": {
      "name": "python"
    }
  },
  "nbformat": 4,
  "nbformat_minor": 0
}
