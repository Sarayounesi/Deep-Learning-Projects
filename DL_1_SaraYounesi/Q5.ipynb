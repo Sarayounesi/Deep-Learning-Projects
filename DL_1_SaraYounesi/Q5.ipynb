{
  "nbformat": 4,
  "nbformat_minor": 0,
  "metadata": {
    "colab": {
      "provenance": []
    },
    "kernelspec": {
      "name": "python3",
      "display_name": "Python 3"
    },
    "language_info": {
      "name": "python"
    }
  },
  "cells": [
    {
      "cell_type": "markdown",
      "source": [
        "Sara Sadat Younesi\n",
        "\n",
        "IMPORT LIBRARY FROM TORCH"
      ],
      "metadata": {
        "id": "Gf4zaEG8Sy5O"
      }
    },
    {
      "cell_type": "code",
      "source": [
        "import torch\n",
        "import torch.nn as nn\n",
        "from PIL import Image\n",
        "import numpy as np\n",
        "import torch.optim as optim\n",
        "import torchvision.transforms as transforms\n",
        "import numpy as np\n",
        "import matplotlib.pyplot as plt"
      ],
      "metadata": {
        "id": "w4OKL6omS5Ot"
      },
      "execution_count": 1,
      "outputs": []
    },
    {
      "cell_type": "markdown",
      "source": [
        "Read image and size of image"
      ],
      "metadata": {
        "id": "pqFEf8CJxyPn"
      }
    },
    {
      "cell_type": "code",
      "source": [
        "image1 = Image.open('Q5_1.png')\n",
        "image2 = Image.open('Q5_2.png')\n",
        "image3 = Image.open('Q5_3.png')\n"
      ],
      "metadata": {
        "id": "zdD6-GotTPAQ"
      },
      "execution_count": 2,
      "outputs": []
    },
    {
      "cell_type": "markdown",
      "source": [
        "Check type of image"
      ],
      "metadata": {
        "id": "FaAxv3mOyp6i"
      }
    },
    {
      "cell_type": "code",
      "source": [
        "print(type(image1))"
      ],
      "metadata": {
        "colab": {
          "base_uri": "https://localhost:8080/"
        },
        "id": "NvyKUjcwajSj",
        "outputId": "b09bb5f1-2ca5-4304-b70e-b66c2b49fad0"
      },
      "execution_count": 3,
      "outputs": [
        {
          "output_type": "stream",
          "name": "stdout",
          "text": [
            "<class 'PIL.PngImagePlugin.PngImageFile'>\n"
          ]
        }
      ]
    },
    {
      "cell_type": "code",
      "source": [
        "transform = transforms.Compose([transforms.Resize((8, 8)), transforms.Grayscale(num_output_channels=1), transforms.ToTensor()])\n",
        "tensor_image1 = transform(image1)\n",
        "tensor_image2 = transform(image2)\n",
        "tensor_image3 = transform(image3)\n",
        "\n",
        "print(tensor_image1)\n",
        "print(tensor_image2)\n",
        "print(tensor_image3)\n",
        "\n",
        "y = torch.tensor([0, 1, 2])"
      ],
      "metadata": {
        "id": "urPp3bUUUu1p",
        "colab": {
          "base_uri": "https://localhost:8080/"
        },
        "outputId": "d311f8ee-e7ef-435a-e013-161b01b61817"
      },
      "execution_count": 4,
      "outputs": [
        {
          "output_type": "stream",
          "name": "stdout",
          "text": [
            "tensor([[[0.9098, 0.8980, 0.8980, 0.8980, 0.8980, 0.8980, 0.8980, 0.9020],\n",
            "         [0.9059, 0.8980, 0.8980, 0.8980, 0.8863, 0.8353, 0.8353, 0.8902],\n",
            "         [0.9059, 0.8863, 0.8431, 0.8784, 0.7843, 0.4627, 0.4667, 0.7725],\n",
            "         [0.8471, 0.8196, 0.4667, 0.7098, 0.4510, 0.6980, 0.6980, 0.4000],\n",
            "         [0.4275, 0.7569, 0.3569, 0.3882, 0.3569, 0.4078, 0.4078, 0.3529],\n",
            "         [0.3451, 0.6941, 0.4000, 0.7529, 0.8157, 0.8157, 0.8157, 0.8196],\n",
            "         [0.3529, 0.3961, 0.4157, 0.8314, 0.8980, 0.8980, 0.8980, 0.9020],\n",
            "         [0.8314, 0.8196, 0.8275, 0.8980, 0.9059, 0.9059, 0.9059, 0.9098]]])\n",
            "tensor([[[0.9059, 0.9059, 0.9059, 0.8980, 0.7804, 0.4706, 0.7098, 0.4314],\n",
            "         [0.8980, 0.8980, 0.8980, 0.8431, 0.5176, 0.6706, 0.5059, 0.7765],\n",
            "         [0.8275, 0.8863, 0.8941, 0.8784, 0.7294, 0.5020, 0.7804, 0.8980],\n",
            "         [0.4000, 0.7608, 0.8196, 0.7647, 0.4549, 0.7686, 0.8863, 0.9098],\n",
            "         [0.3529, 0.4078, 0.4157, 0.4078, 0.4157, 0.8275, 0.8980, 0.9098],\n",
            "         [0.8235, 0.8235, 0.8235, 0.8235, 0.8314, 0.8863, 0.8980, 0.9098],\n",
            "         [0.8980, 0.8980, 0.8980, 0.8980, 0.8980, 0.8980, 0.8980, 0.9098],\n",
            "         [0.8980, 0.8980, 0.8980, 0.8980, 0.8980, 0.8980, 0.8980, 0.9137]]])\n",
            "tensor([[[0.9255, 0.9137, 0.9137, 0.9137, 0.9137, 0.9137, 0.9137, 0.9137],\n",
            "         [0.9059, 0.8980, 0.8980, 0.8980, 0.8980, 0.8980, 0.8980, 0.8980],\n",
            "         [0.9059, 0.8863, 0.8353, 0.8863, 0.8941, 0.8941, 0.8863, 0.8235],\n",
            "         [0.9059, 0.8235, 0.4588, 0.7608, 0.8157, 0.8157, 0.7529, 0.3961],\n",
            "         [0.9059, 0.8275, 0.4196, 0.4118, 0.4157, 0.4157, 0.4078, 0.3569],\n",
            "         [0.9059, 0.8902, 0.8353, 0.8196, 0.7686, 0.8196, 0.8275, 0.8275],\n",
            "         [0.9059, 0.8980, 0.8980, 0.8392, 0.5294, 0.8431, 0.8980, 0.8980],\n",
            "         [0.9020, 0.8902, 0.8902, 0.8784, 0.8314, 0.8824, 0.8902, 0.8902]]])\n"
          ]
        }
      ]
    },
    {
      "cell_type": "markdown",
      "source": [
        "Define Base MLP Architecture\n",
        "\n",
        "Define input layer with 64 neroun\n",
        "Define hidden layer with 16 noren\n",
        "Define output layer with 3 noren\n",
        "Define Activation function\n",
        "AND forward in network step by step"
      ],
      "metadata": {
        "id": "RF0yO2X1bkcH"
      }
    },
    {
      "cell_type": "code",
      "source": [
        "class main_l(nn.Module):\n",
        "    def __init__(self):\n",
        "        super(main_l, self).__init__()\n",
        "\n",
        "        self.input = nn.Linear(64, 16)\n",
        "        self.hidden = nn.Linear(16, 16)\n",
        "        self.output = nn.Linear(16, 3)\n",
        "        self.relu = nn.ReLU()\n",
        "        self.softmax = nn.Softmax()\n",
        "\n",
        "\n",
        "    def forward(self, x):\n",
        "        x = self.input(x)\n",
        "        x = self.hidden(x)\n",
        "        x = self.relu(x)\n",
        "        x = self.output(x)\n",
        "        x = self.softmax(x)\n",
        "\n",
        "        return x"
      ],
      "metadata": {
        "id": "WVn4Xq9vb1zV"
      },
      "execution_count": 5,
      "outputs": []
    },
    {
      "cell_type": "markdown",
      "source": [
        "define model and loss CrossEntropyLoss function\n",
        "Adam optimizer"
      ],
      "metadata": {
        "id": "h9SOut1oeznf"
      }
    },
    {
      "cell_type": "code",
      "source": [
        "model = main_l()\n",
        "loss_function = nn.CrossEntropyLoss()\n",
        "optimizer = torch.optim.Adam(model.parameters(), lr = 0.01)"
      ],
      "metadata": {
        "id": "I2wmqwGNfC3T"
      },
      "execution_count": 6,
      "outputs": []
    },
    {
      "cell_type": "markdown",
      "source": [
        "train the model via epochs\n",
        "and fix train data for training in one tensor\n"
      ],
      "metadata": {
        "id": "W1hheSTgfNZ_"
      }
    },
    {
      "cell_type": "code",
      "source": [
        "num_epochs = 100\n",
        "epochs = []\n",
        "epoch_losses = []\n",
        "\n",
        "train_data = torch.stack([tensor_image1, tensor_image2, tensor_image1])\n",
        "train_data = train_data.view(train_data.size(0), -1)\n",
        "train_labels = torch.LongTensor([0, 1, 2])\n",
        "\n",
        "for epoch in range(num_epochs):\n",
        "    loss = loss_function(model(train_data), train_labels)\n",
        "    optimizer.zero_grad()\n",
        "\n",
        "\n",
        "    loss.backward()\n",
        "    optimizer.step()\n",
        "\n",
        "    o = epoch + 1\n",
        "    epochs.append(o)\n",
        "    epoch_losses.append(loss.item())\n",
        "\n",
        "    print(f'Epoch {o}/{num_epochs}')\n",
        "    print(f\"Loss: {loss.item()}\")"
      ],
      "metadata": {
        "colab": {
          "base_uri": "https://localhost:8080/"
        },
        "id": "Cgdnki34g3DH",
        "outputId": "534e4e19-9152-4b26-e045-79b9c4a563a7"
      },
      "execution_count": 7,
      "outputs": [
        {
          "output_type": "stream",
          "name": "stdout",
          "text": [
            "Epoch 1/100\n",
            "Loss: 1.0965622663497925\n",
            "Epoch 2/100\n",
            "Loss: 1.087426781654358\n",
            "Epoch 3/100\n",
            "Loss: 1.0758947134017944\n",
            "Epoch 4/100\n",
            "Loss: 1.0606800317764282\n",
            "Epoch 5/100\n",
            "Loss: 1.0409187078475952\n",
            "Epoch 6/100\n",
            "Loss: 1.016611933708191\n",
            "Epoch 7/100\n",
            "Loss: 0.9865768551826477\n",
            "Epoch 8/100\n",
            "Loss: 0.9546770453453064\n",
            "Epoch 9/100\n",
            "Loss: 0.922368049621582\n",
            "Epoch 10/100\n",
            "Loss: 0.8923851847648621\n",
            "Epoch 11/100\n",
            "Loss: 0.8674263954162598\n",
            "Epoch 12/100\n",
            "Loss: 0.8499452471733093\n",
            "Epoch 13/100\n",
            "Loss: 0.8389735817909241\n",
            "Epoch 14/100\n",
            "Loss: 0.832313597202301\n",
            "Epoch 15/100\n",
            "Loss: 0.8284420967102051\n",
            "Epoch 16/100\n",
            "Loss: 0.8262064456939697\n",
            "Epoch 17/100\n",
            "Loss: 0.8245866298675537\n",
            "Epoch 18/100\n",
            "Loss: 0.8236510753631592\n",
            "Epoch 19/100\n",
            "Loss: 0.8232190012931824\n",
            "Epoch 20/100\n",
            "Loss: 0.8230650424957275\n",
            "Epoch 21/100\n",
            "Loss: 0.8227901458740234\n",
            "Epoch 22/100\n",
            "Loss: 0.8226218223571777\n",
            "Epoch 23/100\n",
            "Loss: 0.8226122856140137\n",
            "Epoch 24/100\n",
            "Loss: 0.8225570321083069\n",
            "Epoch 25/100\n",
            "Loss: 0.8225329518318176\n",
            "Epoch 26/100\n",
            "Loss: 0.8225577473640442\n",
            "Epoch 27/100\n",
            "Loss: 0.8225603103637695\n",
            "Epoch 28/100\n",
            "Loss: 0.822521984577179\n",
            "Epoch 29/100\n",
            "Loss: 0.8225137591362\n",
            "Epoch 30/100\n",
            "Loss: 0.822539746761322\n",
            "Epoch 31/100\n",
            "Loss: 0.8225295543670654\n",
            "Epoch 32/100\n",
            "Loss: 0.8225043416023254\n",
            "Epoch 33/100\n",
            "Loss: 0.8225195407867432\n",
            "Epoch 34/100\n",
            "Loss: 0.8225257992744446\n",
            "Epoch 35/100\n",
            "Loss: 0.8225038647651672\n",
            "Epoch 36/100\n",
            "Loss: 0.8225095868110657\n",
            "Epoch 37/100\n",
            "Loss: 0.8225197196006775\n",
            "Epoch 38/100\n",
            "Loss: 0.8225027918815613\n",
            "Epoch 39/100\n",
            "Loss: 0.8225057721138\n",
            "Epoch 40/100\n",
            "Loss: 0.8225142955780029\n",
            "Epoch 41/100\n",
            "Loss: 0.8225008845329285\n",
            "Epoch 42/100\n",
            "Loss: 0.8225045204162598\n",
            "Epoch 43/100\n",
            "Loss: 0.8225092887878418\n",
            "Epoch 44/100\n",
            "Loss: 0.8224987983703613\n",
            "Epoch 45/100\n",
            "Loss: 0.8225045204162598\n",
            "Epoch 46/100\n",
            "Loss: 0.8225048184394836\n",
            "Epoch 47/100\n",
            "Loss: 0.8224980235099792\n",
            "Epoch 48/100\n",
            "Loss: 0.8225042819976807\n",
            "Epoch 49/100\n",
            "Loss: 0.8225006461143494\n",
            "Epoch 50/100\n",
            "Loss: 0.8224987387657166\n",
            "Epoch 51/100\n",
            "Loss: 0.8225027918815613\n",
            "Epoch 52/100\n",
            "Loss: 0.8224977850914001\n",
            "Epoch 53/100\n",
            "Loss: 0.8224999904632568\n",
            "Epoch 54/100\n",
            "Loss: 0.8225001692771912\n",
            "Epoch 55/100\n",
            "Loss: 0.8224971890449524\n",
            "Epoch 56/100\n",
            "Loss: 0.8225004076957703\n",
            "Epoch 57/100\n",
            "Loss: 0.822497546672821\n",
            "Epoch 58/100\n",
            "Loss: 0.8224981427192688\n",
            "Epoch 59/100\n",
            "Loss: 0.8224988579750061\n",
            "Epoch 60/100\n",
            "Loss: 0.8224968314170837\n"
          ]
        },
        {
          "output_type": "stream",
          "name": "stderr",
          "text": [
            "/usr/local/lib/python3.10/dist-packages/torch/nn/modules/module.py:1518: UserWarning: Implicit dimension choice for softmax has been deprecated. Change the call to include dim=X as an argument.\n",
            "  return self._call_impl(*args, **kwargs)\n"
          ]
        },
        {
          "output_type": "stream",
          "name": "stdout",
          "text": [
            "Epoch 61/100\n",
            "Loss: 0.8224987983703613\n",
            "Epoch 62/100\n",
            "Loss: 0.8224970698356628\n",
            "Epoch 63/100\n",
            "Loss: 0.822497546672821\n",
            "Epoch 64/100\n",
            "Loss: 0.8224976658821106\n",
            "Epoch 65/100\n",
            "Loss: 0.8224965929985046\n",
            "Epoch 66/100\n",
            "Loss: 0.8224977850914001\n",
            "Epoch 67/100\n",
            "Loss: 0.8224965929985046\n",
            "Epoch 68/100\n",
            "Loss: 0.8224971890449524\n",
            "Epoch 69/100\n",
            "Loss: 0.8224968910217285\n",
            "Epoch 70/100\n",
            "Loss: 0.8224966526031494\n",
            "Epoch 71/100\n",
            "Loss: 0.8224970698356628\n",
            "Epoch 72/100\n",
            "Loss: 0.8224963545799255\n",
            "Epoch 73/100\n",
            "Loss: 0.8224968910217285\n",
            "Epoch 74/100\n",
            "Loss: 0.8224963545799255\n",
            "Epoch 75/100\n",
            "Loss: 0.8224965929985046\n",
            "Epoch 76/100\n",
            "Loss: 0.8224964737892151\n",
            "Epoch 77/100\n",
            "Loss: 0.8224963545799255\n",
            "Epoch 78/100\n",
            "Loss: 0.8224965929985046\n",
            "Epoch 79/100\n",
            "Loss: 0.8224961757659912\n",
            "Epoch 80/100\n",
            "Loss: 0.8224964737892151\n",
            "Epoch 81/100\n",
            "Loss: 0.8224961161613464\n",
            "Epoch 82/100\n",
            "Loss: 0.8224964141845703\n",
            "Epoch 83/100\n",
            "Loss: 0.8224961757659912\n",
            "Epoch 84/100\n",
            "Loss: 0.8224961757659912\n",
            "Epoch 85/100\n",
            "Loss: 0.8224961757659912\n",
            "Epoch 86/100\n",
            "Loss: 0.8224961757659912\n",
            "Epoch 87/100\n",
            "Loss: 0.8224961757659912\n",
            "Epoch 88/100\n",
            "Loss: 0.8224961161613464\n",
            "Epoch 89/100\n",
            "Loss: 0.8224961161613464\n",
            "Epoch 90/100\n",
            "Loss: 0.8224959969520569\n",
            "Epoch 91/100\n",
            "Loss: 0.8224961757659912\n",
            "Epoch 92/100\n",
            "Loss: 0.8224961161613464\n",
            "Epoch 93/100\n",
            "Loss: 0.8224961161613464\n",
            "Epoch 94/100\n",
            "Loss: 0.8224959969520569\n",
            "Epoch 95/100\n",
            "Loss: 0.8224959969520569\n",
            "Epoch 96/100\n",
            "Loss: 0.8224959373474121\n",
            "Epoch 97/100\n",
            "Loss: 0.8224959373474121\n",
            "Epoch 98/100\n",
            "Loss: 0.8224959373474121\n",
            "Epoch 99/100\n",
            "Loss: 0.8224959373474121\n",
            "Epoch 100/100\n",
            "Loss: 0.8224959373474121\n"
          ]
        }
      ]
    },
    {
      "cell_type": "markdown",
      "source": [
        "plot loss value with respect to each epoch"
      ],
      "metadata": {
        "id": "1f3zL0bf2KEz"
      }
    },
    {
      "cell_type": "code",
      "source": [
        "plt.plot(epochs, epoch_losses)\n",
        "plt.title('Training Loss Plot')\n",
        "plt.xlabel('Epoch axis')\n",
        "plt.ylabel('Loss axis')\n",
        "plt.show()"
      ],
      "metadata": {
        "colab": {
          "base_uri": "https://localhost:8080/",
          "height": 472
        },
        "id": "UJTWOyrKjYxn",
        "outputId": "35e7c9a7-b0f9-4866-81c7-3b8c10f33fdf"
      },
      "execution_count": 8,
      "outputs": [
        {
          "output_type": "display_data",
          "data": {
            "text/plain": [
              "<Figure size 640x480 with 1 Axes>"
            ],
            "image/png": "[encoded data removed]"
          },
          "metadata": {}
        }
      ]
    }
  ]
}